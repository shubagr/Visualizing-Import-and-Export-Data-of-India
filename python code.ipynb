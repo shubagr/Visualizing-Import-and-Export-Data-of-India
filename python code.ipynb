{
 "cells": [
  {
   "cell_type": "markdown",
   "metadata": {},
   "source": [
    "# Assignment 4\n",
    "\n",
    "Before working on this assignment please read these instructions fully. In the submission area, you will notice that you can click the link to **Preview the Grading** for each step of the assignment. This is the criteria that will be used for peer grading. Please familiarize yourself with the criteria before beginning the assignment.\n",
    "\n",
    "This assignment requires that you to find **at least** two datasets on the web which are related, and that you visualize these datasets to answer a question with the broad topic of **economic activity or measures** (see below) for the region of **Ann Arbor, Michigan, United States**, or **United States** more broadly.\n",
    "\n",
    "You can merge these datasets with data from different regions if you like! For instance, you might want to compare **Ann Arbor, Michigan, United States** to Ann Arbor, USA. In that case at least one source file must be about **Ann Arbor, Michigan, United States**.\n",
    "\n",
    "You are welcome to choose datasets at your discretion, but keep in mind **they will be shared with your peers**, so choose appropriate datasets. Sensitive, confidential, illicit, and proprietary materials are not good choices for datasets for this assignment. You are welcome to upload datasets of your own as well, and link to them using a third party repository such as github, bitbucket, pastebin, etc. Please be aware of the Coursera terms of service with respect to intellectual property.\n",
    "\n",
    "Also, you are welcome to preserve data in its original language, but for the purposes of grading you should provide english translations. You are welcome to provide multiple visuals in different languages if you would like!\n",
    "\n",
    "As this assignment is for the whole course, you must incorporate principles discussed in the first week, such as having as high data-ink ratio (Tufte) and aligning with Cairo’s principles of truth, beauty, function, and insight.\n",
    "\n",
    "Here are the assignment instructions:\n",
    "\n",
    " * State the region and the domain category that your data sets are about (e.g., **Ann Arbor, Michigan, United States** and **economic activity or measures**).\n",
    " * You must state a question about the domain category and region that you identified as being interesting.\n",
    " * You must provide at least two links to available datasets. These could be links to files such as CSV or Excel files, or links to websites which might have data in tabular form, such as Wikipedia pages.\n",
    " * You must upload an image which addresses the research question you stated. In addition to addressing the question, this visual should follow Cairo's principles of truthfulness, functionality, beauty, and insightfulness.\n",
    " * You must contribute a short (1-2 paragraph) written justification of how your visualization addresses your stated research question.\n",
    "\n",
    "What do we mean by **economic activity or measures**?  For this category you might look at the inputs or outputs to the given economy, or major changes in the economy compared to other regions.\n",
    "\n",
    "## Tips\n",
    "* Wikipedia is an excellent source of data, and I strongly encourage you to explore it for new data sources.\n",
    "* Many governments run open data initiatives at the city, region, and country levels, and these are wonderful resources for localized data sources.\n",
    "* Several international agencies, such as the [United Nations](http://data.un.org/), the [World Bank](http://data.worldbank.org/), the [Global Open Data Index](http://index.okfn.org/place/) are other great places to look for data.\n",
    "* This assignment requires you to convert and clean datafiles. Check out the discussion forums for tips on how to do this from various sources, and share your successes with your fellow students!\n",
    "\n",
    "## Example\n",
    "Looking for an example? Here's what our course assistant put together for the **Ann Arbor, MI, USA** area using **sports and athletics** as the topic. [Example Solution File](./readonly/Assignment4_example.pdf)"
   ]
  },
  {
   "cell_type": "code",
   "execution_count": 64,
   "metadata": {
    "collapsed": true
   },
   "outputs": [],
   "source": [
    "#importing libraries and data\n",
    "\n",
    "import numpy as np\n",
    "import pandas as pd\n",
    "import matplotlib.pyplot as plt\n",
    "import seaborn as sns\n",
    "\n",
    "import warnings\n",
    "warnings.filterwarnings(\"ignore\")\n",
    "import os\n",
    "\n",
    "\n",
    "import_data = pd.read_csv(\"2018-2010_import data of india.csv\")\n",
    "export_data = pd.read_csv(\"2018-2010_export data of india.csv\")"
   ]
  },
  {
   "cell_type": "code",
   "execution_count": 65,
   "metadata": {
    "collapsed": false
   },
   "outputs": [
    {
     "data": {
      "text/html": [
       "<div>\n",
       "<table border=\"1\" class=\"dataframe\">\n",
       "  <thead>\n",
       "    <tr style=\"text-align: right;\">\n",
       "      <th></th>\n",
       "      <th>HSCode</th>\n",
       "      <th>Commodity</th>\n",
       "      <th>value</th>\n",
       "      <th>country</th>\n",
       "      <th>year</th>\n",
       "    </tr>\n",
       "  </thead>\n",
       "  <tbody>\n",
       "    <tr>\n",
       "      <th>0</th>\n",
       "      <td>5</td>\n",
       "      <td>PRODUCTS OF ANIMAL ORIGIN, NOT ELSEWHERE SPECI...</td>\n",
       "      <td>0.00</td>\n",
       "      <td>AFGHANISTAN TIS</td>\n",
       "      <td>2018</td>\n",
       "    </tr>\n",
       "    <tr>\n",
       "      <th>1</th>\n",
       "      <td>7</td>\n",
       "      <td>EDIBLE VEGETABLES AND CERTAIN ROOTS AND TUBERS.</td>\n",
       "      <td>12.38</td>\n",
       "      <td>AFGHANISTAN TIS</td>\n",
       "      <td>2018</td>\n",
       "    </tr>\n",
       "    <tr>\n",
       "      <th>2</th>\n",
       "      <td>8</td>\n",
       "      <td>EDIBLE FRUIT AND NUTS; PEEL OR CITRUS FRUIT OR...</td>\n",
       "      <td>268.60</td>\n",
       "      <td>AFGHANISTAN TIS</td>\n",
       "      <td>2018</td>\n",
       "    </tr>\n",
       "    <tr>\n",
       "      <th>3</th>\n",
       "      <td>9</td>\n",
       "      <td>COFFEE, TEA, MATE AND SPICES.</td>\n",
       "      <td>35.48</td>\n",
       "      <td>AFGHANISTAN TIS</td>\n",
       "      <td>2018</td>\n",
       "    </tr>\n",
       "    <tr>\n",
       "      <th>4</th>\n",
       "      <td>11</td>\n",
       "      <td>PRODUCTS OF THE MILLING INDUSTRY; MALT; STARCH...</td>\n",
       "      <td>NaN</td>\n",
       "      <td>AFGHANISTAN TIS</td>\n",
       "      <td>2018</td>\n",
       "    </tr>\n",
       "  </tbody>\n",
       "</table>\n",
       "</div>"
      ],
      "text/plain": [
       "   HSCode                                          Commodity   value  \\\n",
       "0       5  PRODUCTS OF ANIMAL ORIGIN, NOT ELSEWHERE SPECI...    0.00   \n",
       "1       7    EDIBLE VEGETABLES AND CERTAIN ROOTS AND TUBERS.   12.38   \n",
       "2       8  EDIBLE FRUIT AND NUTS; PEEL OR CITRUS FRUIT OR...  268.60   \n",
       "3       9                      COFFEE, TEA, MATE AND SPICES.   35.48   \n",
       "4      11  PRODUCTS OF THE MILLING INDUSTRY; MALT; STARCH...     NaN   \n",
       "\n",
       "           country  year  \n",
       "0  AFGHANISTAN TIS  2018  \n",
       "1  AFGHANISTAN TIS  2018  \n",
       "2  AFGHANISTAN TIS  2018  \n",
       "3  AFGHANISTAN TIS  2018  \n",
       "4  AFGHANISTAN TIS  2018  "
      ]
     },
     "execution_count": 65,
     "metadata": {},
     "output_type": "execute_result"
    }
   ],
   "source": [
    "#checking both dataframes\n",
    "import_data.head(5)"
   ]
  },
  {
   "cell_type": "code",
   "execution_count": 66,
   "metadata": {
    "collapsed": false
   },
   "outputs": [
    {
     "data": {
      "text/html": [
       "<div>\n",
       "<table border=\"1\" class=\"dataframe\">\n",
       "  <thead>\n",
       "    <tr style=\"text-align: right;\">\n",
       "      <th></th>\n",
       "      <th>HSCode</th>\n",
       "      <th>Commodity</th>\n",
       "      <th>value</th>\n",
       "      <th>country</th>\n",
       "      <th>year</th>\n",
       "    </tr>\n",
       "  </thead>\n",
       "  <tbody>\n",
       "    <tr>\n",
       "      <th>0</th>\n",
       "      <td>2</td>\n",
       "      <td>MEAT AND EDIBLE MEAT OFFAL.</td>\n",
       "      <td>0.18</td>\n",
       "      <td>AFGHANISTAN TIS</td>\n",
       "      <td>2018</td>\n",
       "    </tr>\n",
       "    <tr>\n",
       "      <th>1</th>\n",
       "      <td>3</td>\n",
       "      <td>FISH AND CRUSTACEANS, MOLLUSCS AND OTHER AQUAT...</td>\n",
       "      <td>0.00</td>\n",
       "      <td>AFGHANISTAN TIS</td>\n",
       "      <td>2018</td>\n",
       "    </tr>\n",
       "    <tr>\n",
       "      <th>2</th>\n",
       "      <td>4</td>\n",
       "      <td>DAIRY PRODUCE; BIRDS' EGGS; NATURAL HONEY; EDI...</td>\n",
       "      <td>12.48</td>\n",
       "      <td>AFGHANISTAN TIS</td>\n",
       "      <td>2018</td>\n",
       "    </tr>\n",
       "    <tr>\n",
       "      <th>3</th>\n",
       "      <td>6</td>\n",
       "      <td>LIVE TREES AND OTHER PLANTS; BULBS; ROOTS AND ...</td>\n",
       "      <td>0.00</td>\n",
       "      <td>AFGHANISTAN TIS</td>\n",
       "      <td>2018</td>\n",
       "    </tr>\n",
       "    <tr>\n",
       "      <th>4</th>\n",
       "      <td>7</td>\n",
       "      <td>EDIBLE VEGETABLES AND CERTAIN ROOTS AND TUBERS.</td>\n",
       "      <td>1.89</td>\n",
       "      <td>AFGHANISTAN TIS</td>\n",
       "      <td>2018</td>\n",
       "    </tr>\n",
       "  </tbody>\n",
       "</table>\n",
       "</div>"
      ],
      "text/plain": [
       "   HSCode                                          Commodity  value  \\\n",
       "0       2                        MEAT AND EDIBLE MEAT OFFAL.   0.18   \n",
       "1       3  FISH AND CRUSTACEANS, MOLLUSCS AND OTHER AQUAT...   0.00   \n",
       "2       4  DAIRY PRODUCE; BIRDS' EGGS; NATURAL HONEY; EDI...  12.48   \n",
       "3       6  LIVE TREES AND OTHER PLANTS; BULBS; ROOTS AND ...   0.00   \n",
       "4       7    EDIBLE VEGETABLES AND CERTAIN ROOTS AND TUBERS.   1.89   \n",
       "\n",
       "           country  year  \n",
       "0  AFGHANISTAN TIS  2018  \n",
       "1  AFGHANISTAN TIS  2018  \n",
       "2  AFGHANISTAN TIS  2018  \n",
       "3  AFGHANISTAN TIS  2018  \n",
       "4  AFGHANISTAN TIS  2018  "
      ]
     },
     "execution_count": 66,
     "metadata": {},
     "output_type": "execute_result"
    }
   ],
   "source": [
    "export_data.head(5)"
   ]
  },
  {
   "cell_type": "code",
   "execution_count": 67,
   "metadata": {
    "collapsed": false
   },
   "outputs": [
    {
     "name": "stdout",
     "output_type": "stream",
     "text": [
      "<class 'pandas.core.frame.DataFrame'>\n",
      "RangeIndex: 93095 entries, 0 to 93094\n",
      "Data columns (total 5 columns):\n",
      "HSCode       93095 non-null int64\n",
      "Commodity    93095 non-null object\n",
      "value        79068 non-null float64\n",
      "country      93095 non-null object\n",
      "year         93095 non-null int64\n",
      "dtypes: float64(1), int64(2), object(2)\n",
      "memory usage: 3.6+ MB\n"
     ]
    }
   ],
   "source": [
    "import_data.info()"
   ]
  },
  {
   "cell_type": "code",
   "execution_count": 68,
   "metadata": {
    "collapsed": false
   },
   "outputs": [
    {
     "name": "stdout",
     "output_type": "stream",
     "text": [
      "<class 'pandas.core.frame.DataFrame'>\n",
      "RangeIndex: 137023 entries, 0 to 137022\n",
      "Data columns (total 5 columns):\n",
      "HSCode       137023 non-null int64\n",
      "Commodity    137023 non-null object\n",
      "value        122985 non-null float64\n",
      "country      137023 non-null object\n",
      "year         137023 non-null int64\n",
      "dtypes: float64(1), int64(2), object(2)\n",
      "memory usage: 5.2+ MB\n"
     ]
    }
   ],
   "source": [
    "export_data.info()"
   ]
  },
  {
   "cell_type": "code",
   "execution_count": 69,
   "metadata": {
    "collapsed": false
   },
   "outputs": [
    {
     "data": {
      "text/plain": [
       "HSCode           0\n",
       "Commodity        0\n",
       "value        14027\n",
       "country          0\n",
       "year             0\n",
       "dtype: int64"
      ]
     },
     "execution_count": 69,
     "metadata": {},
     "output_type": "execute_result"
    }
   ],
   "source": [
    "import_data.isnull().sum()"
   ]
  },
  {
   "cell_type": "code",
   "execution_count": 70,
   "metadata": {
    "collapsed": false
   },
   "outputs": [
    {
     "data": {
      "text/html": [
       "<div>\n",
       "<table border=\"1\" class=\"dataframe\">\n",
       "  <thead>\n",
       "    <tr style=\"text-align: right;\">\n",
       "      <th></th>\n",
       "      <th>HSCode</th>\n",
       "      <th>Commodity</th>\n",
       "      <th>value</th>\n",
       "      <th>country</th>\n",
       "      <th>year</th>\n",
       "    </tr>\n",
       "  </thead>\n",
       "  <tbody>\n",
       "    <tr>\n",
       "      <th>0</th>\n",
       "      <td>5</td>\n",
       "      <td>PRODUCTS OF ANIMAL ORIGIN, NOT ELSEWHERE SPECI...</td>\n",
       "      <td>0.0</td>\n",
       "      <td>AFGHANISTAN TIS</td>\n",
       "      <td>2018</td>\n",
       "    </tr>\n",
       "    <tr>\n",
       "      <th>9</th>\n",
       "      <td>27</td>\n",
       "      <td>MINERAL FUELS, MINERAL OILS AND PRODUCTS OF TH...</td>\n",
       "      <td>0.0</td>\n",
       "      <td>AFGHANISTAN TIS</td>\n",
       "      <td>2018</td>\n",
       "    </tr>\n",
       "    <tr>\n",
       "      <th>11</th>\n",
       "      <td>41</td>\n",
       "      <td>RAW HIDES AND SKINS (OTHER THAN FURSKINS) AND ...</td>\n",
       "      <td>0.0</td>\n",
       "      <td>AFGHANISTAN TIS</td>\n",
       "      <td>2018</td>\n",
       "    </tr>\n",
       "    <tr>\n",
       "      <th>20</th>\n",
       "      <td>81</td>\n",
       "      <td>OTHER BASE METALS; CERMETS; ARTICLES THEREOF.</td>\n",
       "      <td>0.0</td>\n",
       "      <td>AFGHANISTAN TIS</td>\n",
       "      <td>2018</td>\n",
       "    </tr>\n",
       "    <tr>\n",
       "      <th>22</th>\n",
       "      <td>84</td>\n",
       "      <td>NUCLEAR REACTORS, BOILERS, MACHINERY AND MECHA...</td>\n",
       "      <td>0.0</td>\n",
       "      <td>AFGHANISTAN TIS</td>\n",
       "      <td>2018</td>\n",
       "    </tr>\n",
       "  </tbody>\n",
       "</table>\n",
       "</div>"
      ],
      "text/plain": [
       "    HSCode                                          Commodity  value  \\\n",
       "0        5  PRODUCTS OF ANIMAL ORIGIN, NOT ELSEWHERE SPECI...    0.0   \n",
       "9       27  MINERAL FUELS, MINERAL OILS AND PRODUCTS OF TH...    0.0   \n",
       "11      41  RAW HIDES AND SKINS (OTHER THAN FURSKINS) AND ...    0.0   \n",
       "20      81      OTHER BASE METALS; CERMETS; ARTICLES THEREOF.    0.0   \n",
       "22      84  NUCLEAR REACTORS, BOILERS, MACHINERY AND MECHA...    0.0   \n",
       "\n",
       "            country  year  \n",
       "0   AFGHANISTAN TIS  2018  \n",
       "9   AFGHANISTAN TIS  2018  \n",
       "11  AFGHANISTAN TIS  2018  \n",
       "20  AFGHANISTAN TIS  2018  \n",
       "22  AFGHANISTAN TIS  2018  "
      ]
     },
     "execution_count": 70,
     "metadata": {},
     "output_type": "execute_result"
    }
   ],
   "source": [
    "import_data[import_data.value == 0].head(5)"
   ]
  },
  {
   "cell_type": "code",
   "execution_count": 71,
   "metadata": {
    "collapsed": false
   },
   "outputs": [
    {
     "data": {
      "text/html": [
       "<div>\n",
       "<table border=\"1\" class=\"dataframe\">\n",
       "  <thead>\n",
       "    <tr style=\"text-align: right;\">\n",
       "      <th></th>\n",
       "      <th>HSCode</th>\n",
       "      <th>Commodity</th>\n",
       "      <th>value</th>\n",
       "      <th>country</th>\n",
       "      <th>year</th>\n",
       "    </tr>\n",
       "  </thead>\n",
       "  <tbody>\n",
       "    <tr>\n",
       "      <th>8263</th>\n",
       "      <td>1</td>\n",
       "      <td>LIVE ANIMALS.</td>\n",
       "      <td>NaN</td>\n",
       "      <td>UNSPECIFIED</td>\n",
       "      <td>2018</td>\n",
       "    </tr>\n",
       "    <tr>\n",
       "      <th>8264</th>\n",
       "      <td>2</td>\n",
       "      <td>MEAT AND EDIBLE MEAT OFFAL.</td>\n",
       "      <td>NaN</td>\n",
       "      <td>UNSPECIFIED</td>\n",
       "      <td>2018</td>\n",
       "    </tr>\n",
       "    <tr>\n",
       "      <th>8265</th>\n",
       "      <td>3</td>\n",
       "      <td>FISH AND CRUSTACEANS, MOLLUSCS AND OTHER AQUAT...</td>\n",
       "      <td>3.1</td>\n",
       "      <td>UNSPECIFIED</td>\n",
       "      <td>2018</td>\n",
       "    </tr>\n",
       "    <tr>\n",
       "      <th>8266</th>\n",
       "      <td>4</td>\n",
       "      <td>DAIRY PRODUCE; BIRDS' EGGS; NATURAL HONEY; EDI...</td>\n",
       "      <td>0.1</td>\n",
       "      <td>UNSPECIFIED</td>\n",
       "      <td>2018</td>\n",
       "    </tr>\n",
       "    <tr>\n",
       "      <th>8267</th>\n",
       "      <td>5</td>\n",
       "      <td>PRODUCTS OF ANIMAL ORIGIN, NOT ELSEWHERE SPECI...</td>\n",
       "      <td>NaN</td>\n",
       "      <td>UNSPECIFIED</td>\n",
       "      <td>2018</td>\n",
       "    </tr>\n",
       "  </tbody>\n",
       "</table>\n",
       "</div>"
      ],
      "text/plain": [
       "      HSCode                                          Commodity  value  \\\n",
       "8263       1                                      LIVE ANIMALS.    NaN   \n",
       "8264       2                        MEAT AND EDIBLE MEAT OFFAL.    NaN   \n",
       "8265       3  FISH AND CRUSTACEANS, MOLLUSCS AND OTHER AQUAT...    3.1   \n",
       "8266       4  DAIRY PRODUCE; BIRDS' EGGS; NATURAL HONEY; EDI...    0.1   \n",
       "8267       5  PRODUCTS OF ANIMAL ORIGIN, NOT ELSEWHERE SPECI...    NaN   \n",
       "\n",
       "          country  year  \n",
       "8263  UNSPECIFIED  2018  \n",
       "8264  UNSPECIFIED  2018  \n",
       "8265  UNSPECIFIED  2018  \n",
       "8266  UNSPECIFIED  2018  \n",
       "8267  UNSPECIFIED  2018  "
      ]
     },
     "execution_count": 71,
     "metadata": {},
     "output_type": "execute_result"
    }
   ],
   "source": [
    "import_data[import_data.country == \"UNSPECIFIED\"].head()"
   ]
  },
  {
   "cell_type": "code",
   "execution_count": 72,
   "metadata": {
    "collapsed": false
   },
   "outputs": [
    {
     "data": {
      "text/plain": [
       "18002"
      ]
     },
     "execution_count": 72,
     "metadata": {},
     "output_type": "execute_result"
    }
   ],
   "source": [
    "import_data.duplicated().sum()"
   ]
  },
  {
   "cell_type": "code",
   "execution_count": 73,
   "metadata": {
    "collapsed": false
   },
   "outputs": [
    {
     "data": {
      "text/plain": [
       "0"
      ]
     },
     "execution_count": 73,
     "metadata": {},
     "output_type": "execute_result"
    }
   ],
   "source": [
    "export_data.duplicated().sum()"
   ]
  },
  {
   "cell_type": "code",
   "execution_count": 74,
   "metadata": {
    "collapsed": true
   },
   "outputs": [],
   "source": [
    "#cleaning data for both dataframes\n",
    "\n",
    "def cleaning_data(df):\n",
    "    df['country']= df['country'].apply(lambda x : np.NaN if x == \"UNSPECIFIED\" else x)\n",
    "    df = df[df.value!=0]\n",
    "    df.dropna(inplace=True)\n",
    "    df.year = pd.Categorical(df.year)\n",
    "    df.drop_duplicates(keep=\"first\",inplace=True)\n",
    "    return df\n",
    "\n",
    "import_data = cleaning_data(import_data)\n",
    "export_data = cleaning_data(export_data)"
   ]
  },
  {
   "cell_type": "code",
   "execution_count": 75,
   "metadata": {
    "collapsed": false
   },
   "outputs": [
    {
     "name": "stdout",
     "output_type": "stream",
     "text": [
      "<class 'pandas.core.frame.DataFrame'>\n",
      "Int64Index: 54554 entries, 1 to 93090\n",
      "Data columns (total 5 columns):\n",
      "HSCode       54554 non-null int64\n",
      "Commodity    54554 non-null object\n",
      "value        54554 non-null float64\n",
      "country      54554 non-null object\n",
      "year         54554 non-null category\n",
      "dtypes: category(1), float64(1), int64(1), object(2)\n",
      "memory usage: 2.1+ MB\n",
      "<class 'pandas.core.frame.DataFrame'>\n",
      "Int64Index: 106590 entries, 0 to 137022\n",
      "Data columns (total 5 columns):\n",
      "HSCode       106590 non-null int64\n",
      "Commodity    106590 non-null object\n",
      "value        106590 non-null float64\n",
      "country      106590 non-null object\n",
      "year         106590 non-null category\n",
      "dtypes: category(1), float64(1), int64(1), object(2)\n",
      "memory usage: 4.2+ MB\n"
     ]
    }
   ],
   "source": [
    "import_data.info()\n",
    "export_data.info()"
   ]
  },
  {
   "cell_type": "code",
   "execution_count": 76,
   "metadata": {
    "collapsed": false
   },
   "outputs": [],
   "source": [
    "imp = import_data.groupby('year').agg({'value': 'sum'})\n",
    "exp = export_data.groupby('year').agg({'value': 'sum'})"
   ]
  },
  {
   "cell_type": "code",
   "execution_count": 77,
   "metadata": {
    "collapsed": false
   },
   "outputs": [
    {
     "data": {
      "text/html": [
       "<div>\n",
       "<table border=\"1\" class=\"dataframe\">\n",
       "  <thead>\n",
       "    <tr style=\"text-align: right;\">\n",
       "      <th></th>\n",
       "      <th>value</th>\n",
       "    </tr>\n",
       "    <tr>\n",
       "      <th>year</th>\n",
       "      <th></th>\n",
       "    </tr>\n",
       "  </thead>\n",
       "  <tbody>\n",
       "    <tr>\n",
       "      <th>2010</th>\n",
       "      <td>365444.94</td>\n",
       "    </tr>\n",
       "    <tr>\n",
       "      <th>2011</th>\n",
       "      <td>488272.63</td>\n",
       "    </tr>\n",
       "    <tr>\n",
       "      <th>2012</th>\n",
       "      <td>488805.22</td>\n",
       "    </tr>\n",
       "    <tr>\n",
       "      <th>2013</th>\n",
       "      <td>446095.99</td>\n",
       "    </tr>\n",
       "    <tr>\n",
       "      <th>2014</th>\n",
       "      <td>440463.87</td>\n",
       "    </tr>\n",
       "    <tr>\n",
       "      <th>2015</th>\n",
       "      <td>372291.40</td>\n",
       "    </tr>\n",
       "    <tr>\n",
       "      <th>2016</th>\n",
       "      <td>377006.72</td>\n",
       "    </tr>\n",
       "    <tr>\n",
       "      <th>2017</th>\n",
       "      <td>456379.59</td>\n",
       "    </tr>\n",
       "    <tr>\n",
       "      <th>2018</th>\n",
       "      <td>513981.62</td>\n",
       "    </tr>\n",
       "  </tbody>\n",
       "</table>\n",
       "</div>"
      ],
      "text/plain": [
       "          value\n",
       "year           \n",
       "2010  365444.94\n",
       "2011  488272.63\n",
       "2012  488805.22\n",
       "2013  446095.99\n",
       "2014  440463.87\n",
       "2015  372291.40\n",
       "2016  377006.72\n",
       "2017  456379.59\n",
       "2018  513981.62"
      ]
     },
     "execution_count": 77,
     "metadata": {},
     "output_type": "execute_result"
    }
   ],
   "source": [
    "imp.head(10)"
   ]
  },
  {
   "cell_type": "code",
   "execution_count": 78,
   "metadata": {
    "collapsed": false
   },
   "outputs": [
    {
     "data": {
      "text/html": [
       "<div>\n",
       "<table border=\"1\" class=\"dataframe\">\n",
       "  <thead>\n",
       "    <tr style=\"text-align: right;\">\n",
       "      <th></th>\n",
       "      <th>value</th>\n",
       "    </tr>\n",
       "    <tr>\n",
       "      <th>year</th>\n",
       "      <th></th>\n",
       "    </tr>\n",
       "  </thead>\n",
       "  <tbody>\n",
       "    <tr>\n",
       "      <th>2010</th>\n",
       "      <td>235411.01</td>\n",
       "    </tr>\n",
       "    <tr>\n",
       "      <th>2011</th>\n",
       "      <td>289511.58</td>\n",
       "    </tr>\n",
       "    <tr>\n",
       "      <th>2012</th>\n",
       "      <td>294946.87</td>\n",
       "    </tr>\n",
       "    <tr>\n",
       "      <th>2013</th>\n",
       "      <td>302844.13</td>\n",
       "    </tr>\n",
       "    <tr>\n",
       "      <th>2014</th>\n",
       "      <td>306159.80</td>\n",
       "    </tr>\n",
       "  </tbody>\n",
       "</table>\n",
       "</div>"
      ],
      "text/plain": [
       "          value\n",
       "year           \n",
       "2010  235411.01\n",
       "2011  289511.58\n",
       "2012  294946.87\n",
       "2013  302844.13\n",
       "2014  306159.80"
      ]
     },
     "execution_count": 78,
     "metadata": {},
     "output_type": "execute_result"
    }
   ],
   "source": [
    "exp.head()"
   ]
  },
  {
   "cell_type": "code",
   "execution_count": 79,
   "metadata": {
    "collapsed": false
   },
   "outputs": [
    {
     "data": {
      "text/plain": [
       "<matplotlib.text.Text at 0x7f9445355ef0>"
      ]
     },
     "execution_count": 79,
     "metadata": {},
     "output_type": "execute_result"
    }
   ],
   "source": [
    "#plotting the data\n",
    "plt.figure()\n",
    "ax = imp.plot(label = 'import data')\n",
    "exp.plot(ax = ax, label = 'export data')\n",
    "ax.set(xlabel='year', ylabel='value')\n",
    "plt.title('Import and export data')"
   ]
  },
  {
   "cell_type": "code",
   "execution_count": 80,
   "metadata": {
    "collapsed": false
   },
   "outputs": [
    {
     "data": {
      "text/plain": [
       "<matplotlib.figure.Figure at 0x7f9445257048>"
      ]
     },
     "metadata": {},
     "output_type": "display_data"
    },
    {
     "data": {
      "image/png": "[encoded data removed]",
      "text/plain": [
       "<matplotlib.figure.Figure at 0x7f9459cb7c50>"
      ]
     },
     "metadata": {},
     "output_type": "display_data"
    }
   ],
   "source": [
    "plt.show()"
   ]
  },
  {
   "cell_type": "code",
   "execution_count": 92,
   "metadata": {
    "collapsed": false
   },
   "outputs": [
    {
     "data": {
      "text/plain": [
       "Index(['CHINA P RP', 'U ARAB EMTS', 'SAUDI ARAB', 'U S A', 'SWITZERLAND',\n",
       "       'IRAQ', 'INDONESIA', 'KOREA RP', 'GERMANY', 'AUSTRALIA'],\n",
       "      dtype='object', name='country')"
      ]
     },
     "execution_count": 92,
     "metadata": {},
     "output_type": "execute_result"
    }
   ],
   "source": [
    "country_import = import_data.groupby('country').agg({'value': 'sum'})\n",
    "country_import = country_import.sort_values(by='value', ascending = False)\n",
    "country_import1 = country_import[:10]\n",
    "\n",
    "import_list = ['CHINA P RP', 'U ARAB EMTS', 'SAUDI ARAB', 'U S A', 'SWITZERLAND',\n",
    "       'IRAQ', 'INDONESIA', 'KOREA RP', 'GERMANY', 'AUSTRALIA']\n",
    "country_export = export_data.groupby('country').agg({'value':'sum'})\n",
    "#country_export = country_export.sort_values(by='value', ascending = False)\n",
    "country_export1 = country_export.loc[import_list]\n",
    "country_export1.index"
   ]
  },
  {
   "cell_type": "code",
   "execution_count": 95,
   "metadata": {
    "collapsed": false
   },
   "outputs": [
    {
     "data": {
      "image/png": "[encoded data removed]",
      "text/plain": [
       "<matplotlib.figure.Figure at 0x7f9459b4a550>"
      ]
     },
     "metadata": {},
     "output_type": "display_data"
    }
   ],
   "source": [
    "       \n",
    "sns.set(rc={'figure.figsize':(15,6)})\n",
    "ax1 = plt.subplot(121)\n",
    "\n",
    "sns.barplot(country_import1.value,country_import1.index).set_title('Country Wise Import')\n",
    "ax1.set(xlabel='Value', ylabel='Country')\n",
    "ax2 = plt.subplot(122)\n",
    "sns.barplot(country_export1.value,country_export1.index).set_title('Country Wise Export')\n",
    "ax2.set(xlabel='Value', ylabel='Country')\n",
    "plt.tight_layout()\n",
    "plt.show()"
   ]
  },
  {
   "cell_type": "code",
   "execution_count": null,
   "metadata": {
    "collapsed": true
   },
   "outputs": [],
   "source": []
  }
 ],
 "metadata": {
  "kernelspec": {
   "display_name": "Python 3",
   "language": "python",
   "name": "python3"
  },
  "language_info": {
   "codemirror_mode": {
    "name": "ipython",
    "version": 3
   },
   "file_extension": ".py",
   "mimetype": "text/x-python",
   "name": "python",
   "nbconvert_exporter": "python",
   "pygments_lexer": "ipython3",
   "version": "3.6.2"
  }
 },
 "nbformat": 4,
 "nbformat_minor": 1
}
